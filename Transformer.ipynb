{
  "nbformat": 4,
  "nbformat_minor": 0,
  "metadata": {
    "colab": {
      "provenance": [],
      "authorship_tag": "ABX9TyOaUXQsUSITcqcyTPlzIk/p",
      "include_colab_link": true
    },
    "kernelspec": {
      "name": "python3",
      "display_name": "Python 3"
    },
    "language_info": {
      "name": "python"
    }
  },
  "cells": [
    {
      "cell_type": "markdown",
      "metadata": {
        "id": "view-in-github",
        "colab_type": "text"
      },
      "source": [
        "<a href=\"https://colab.research.google.com/github/Real1CM/LLM_Z2H/blob/main/Transformer.ipynb\" target=\"_parent\"><img src=\"https://colab.research.google.com/assets/colab-badge.svg\" alt=\"Open In Colab\"/></a>"
      ]
    },
    {
      "cell_type": "code",
      "execution_count": 1,
      "metadata": {
        "colab": {
          "base_uri": "https://localhost:8080/"
        },
        "id": "o6t-UU4jK_mb",
        "outputId": "ecd4a0d7-8c4c-4d57-8a4c-0ecb43ae002e"
      },
      "outputs": [
        {
          "output_type": "stream",
          "name": "stdout",
          "text": [
            "Requirement already satisfied: jieba in /usr/local/lib/python3.10/dist-packages (0.42.1)\n"
          ]
        }
      ],
      "source": [
        "!pip install jieba"
      ]
    },
    {
      "cell_type": "code",
      "source": [
        "import jieba\n",
        "text = open('./text.txt', 'r', encoding='utf-8').read()\n",
        "\n",
        "def my_jieba(text):\n",
        "  return [word for word in jieba.cut(text, ) if word != ' ']"
      ],
      "metadata": {
        "id": "amhGQ4UkUtPB"
      },
      "execution_count": 2,
      "outputs": []
    },
    {
      "cell_type": "code",
      "source": [
        "import re\n",
        "\n",
        "def pre_processing(text):\n",
        "  text = re.sub('\\r','',text)\n",
        "  text = re.sub('\\n','',text)\n",
        "  text = re.sub(' ','',text)\n",
        "  text = re.sub(' ','',text)\n",
        "\n",
        "  text = re.sub(r'[0-9]', '0', text)\n",
        "\n",
        "  return text\n",
        "\n",
        "def my_tokenizer(text):\n",
        "  text = pre_processing(text)\n",
        "  ret = my_jieba(text)\n",
        "  return ret\n",
        "\n",
        "print(my_tokenizer(text))"
      ],
      "metadata": {
        "id": "iUqte4Q0Xe1H",
        "outputId": "539c1f80-c453-4ff3-9f9f-b177fcbac424",
        "colab": {
          "base_uri": "https://localhost:8080/"
        }
      },
      "execution_count": 4,
      "outputs": [
        {
          "output_type": "stream",
          "name": "stderr",
          "text": [
            "Building prefix dict from the default dictionary ...\n",
            "DEBUG:jieba:Building prefix dict from the default dictionary ...\n",
            "Dumping model to file cache /tmp/jieba.cache\n",
            "DEBUG:jieba:Dumping model to file cache /tmp/jieba.cache\n",
            "Loading model cost 0.910 seconds.\n",
            "DEBUG:jieba:Loading model cost 0.910 seconds.\n",
            "Prefix dict has been built successfully.\n",
            "DEBUG:jieba:Prefix dict has been built successfully.\n"
          ]
        },
        {
          "output_type": "stream",
          "name": "stdout",
          "text": [
            "['多年', '以后', '，', '面对', '行刑队', '，', '奥雷', '里亚诺', '·', '布恩迪亚', '上校', '将会', '回', '想起', '，', '父亲', '带', '他', '去', '见识', '冰块', '的', '那个', '遥远', '的', '下午']\n"
          ]
        }
      ]
    }
  ]
}